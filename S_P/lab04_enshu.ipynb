{
 "cells": [
  {
   "cell_type": "code",
   "execution_count": 7,
   "metadata": {},
   "outputs": [
    {
     "name": "stdout",
     "output_type": "stream",
     "text": [
      "      k=0  k=1  k=2  k=3  k=4  k=5  k=6  k=7\n",
      "n=0   cos(0 * (-π/4)) + j sin(0 * (-π/4))  cos(0 * (-π/4)) + j sin(0 * (-π/4))  cos(0 * (-π/4)) + j sin(0 * (-π/4))  cos(0 * (-π/4)) + j sin(0 * (-π/4))  cos(0 * (-π/4)) + j sin(0 * (-π/4))  cos(0 * (-π/4)) + j sin(0 * (-π/4))  cos(0 * (-π/4)) + j sin(0 * (-π/4))  cos(0 * (-π/4)) + j sin(0 * (-π/4))\n",
      "n=1   cos(1 * (-π/4)) + j sin(1 * (-π/4))  cos(1 * (-π/4)) + j sin(1 * (-π/4))  cos(1 * (-π/4)) + j sin(1 * (-π/4))  cos(1 * (-π/4)) + j sin(1 * (-π/4))  cos(1 * (-π/4)) + j sin(1 * (-π/4))  cos(1 * (-π/4)) + j sin(1 * (-π/4))  cos(1 * (-π/4)) + j sin(1 * (-π/4))  cos(1 * (-π/4)) + j sin(1 * (-π/4))\n",
      "n=2   cos(2 * (-π/4)) + j sin(2 * (-π/4))  cos(2 * (-π/4)) + j sin(2 * (-π/4))  cos(2 * (-π/4)) + j sin(2 * (-π/4))  cos(2 * (-π/4)) + j sin(2 * (-π/4))  cos(2 * (-π/4)) + j sin(2 * (-π/4))  cos(2 * (-π/4)) + j sin(2 * (-π/4))  cos(2 * (-π/4)) + j sin(2 * (-π/4))  cos(2 * (-π/4)) + j sin(2 * (-π/4))\n",
      "n=3   cos(3 * (-π/4)) + j sin(3 * (-π/4))  cos(3 * (-π/4)) + j sin(3 * (-π/4))  cos(3 * (-π/4)) + j sin(3 * (-π/4))  cos(3 * (-π/4)) + j sin(3 * (-π/4))  cos(3 * (-π/4)) + j sin(3 * (-π/4))  cos(3 * (-π/4)) + j sin(3 * (-π/4))  cos(3 * (-π/4)) + j sin(3 * (-π/4))  cos(3 * (-π/4)) + j sin(3 * (-π/4))\n",
      "n=4   cos(4 * (-π/4)) + j sin(4 * (-π/4))  cos(4 * (-π/4)) + j sin(4 * (-π/4))  cos(4 * (-π/4)) + j sin(4 * (-π/4))  cos(4 * (-π/4)) + j sin(4 * (-π/4))  cos(4 * (-π/4)) + j sin(4 * (-π/4))  cos(4 * (-π/4)) + j sin(4 * (-π/4))  cos(4 * (-π/4)) + j sin(4 * (-π/4))  cos(4 * (-π/4)) + j sin(4 * (-π/4))\n",
      "n=5   cos(5 * (-π/4)) + j sin(5 * (-π/4))  cos(5 * (-π/4)) + j sin(5 * (-π/4))  cos(5 * (-π/4)) + j sin(5 * (-π/4))  cos(5 * (-π/4)) + j sin(5 * (-π/4))  cos(5 * (-π/4)) + j sin(5 * (-π/4))  cos(5 * (-π/4)) + j sin(5 * (-π/4))  cos(5 * (-π/4)) + j sin(5 * (-π/4))  cos(5 * (-π/4)) + j sin(5 * (-π/4))\n",
      "n=6   cos(6 * (-π/4)) + j sin(6 * (-π/4))  cos(6 * (-π/4)) + j sin(6 * (-π/4))  cos(6 * (-π/4)) + j sin(6 * (-π/4))  cos(6 * (-π/4)) + j sin(6 * (-π/4))  cos(6 * (-π/4)) + j sin(6 * (-π/4))  cos(6 * (-π/4)) + j sin(6 * (-π/4))  cos(6 * (-π/4)) + j sin(6 * (-π/4))  cos(6 * (-π/4)) + j sin(6 * (-π/4))\n",
      "n=7   cos(7 * (-π/4)) + j sin(7 * (-π/4))  cos(7 * (-π/4)) + j sin(7 * (-π/4))  cos(7 * (-π/4)) + j sin(7 * (-π/4))  cos(7 * (-π/4)) + j sin(7 * (-π/4))  cos(7 * (-π/4)) + j sin(7 * (-π/4))  cos(7 * (-π/4)) + j sin(7 * (-π/4))  cos(7 * (-π/4)) + j sin(7 * (-π/4))  cos(7 * (-π/4)) + j sin(7 * (-π/4))\n"
     ]
    }
   ],
   "source": [
    "import numpy as np\n",
    "\n",
    "def compute_W_matrix():\n",
    "    n_values = np.arange(8)\n",
    "    k_values = np.arange(8)\n",
    "    W_matrix = np.zeros((8, 8), dtype=complex)\n",
    "    \n",
    "    for n in n_values:\n",
    "        for k in k_values:\n",
    "            # W_matrix[n, k] = cos(-pi * n * k / 4) + j sin(-pi * n * k / 4)\n",
    "            W_matrix[n, k] = np.cos(-np.pi * n * k / 4) + 1j * np.sin(-np.pi * n * k / 4)\n",
    "    \n",
    "    return W_matrix\n",
    "\n",
    "def display_W_matrix(W_matrix):\n",
    "    n_values = np.arange(8)\n",
    "    k_values = np.arange(8)\n",
    "    \n",
    "    # Print column labels (k-axis)\n",
    "    print(\"     \", \"  \".join([f\"k={k}\" for k in k_values]))\n",
    "    \n",
    "    for n, row in zip(n_values, W_matrix):\n",
    "        # Print row labels (n-axis)\n",
    "        print(f\"n={n}  \", \"  \".join([f\"cos({n} * (-π/4)) + j sin({n} * (-π/4))\" for _ in row]))\n",
    "\n",
    "if __name__ == \"__main__\":\n",
    "    W = compute_W_matrix()\n",
    "    display_W_matrix(W)\n"
   ]
  },
  {
   "cell_type": "markdown",
   "metadata": {},
   "source": [
    "# 考察\n",
    "サンプリング数が8なのでW^nをmod 8で出した値は等しい．よって表1と表2の値は等しいと考えられる． "
   ]
  }
 ],
 "metadata": {
  "kernelspec": {
   "display_name": ".venv",
   "language": "python",
   "name": "python3"
  },
  "language_info": {
   "codemirror_mode": {
    "name": "ipython",
    "version": 3
   },
   "file_extension": ".py",
   "mimetype": "text/x-python",
   "name": "python",
   "nbconvert_exporter": "python",
   "pygments_lexer": "ipython3",
   "version": "3.9.6"
  }
 },
 "nbformat": 4,
 "nbformat_minor": 2
}
